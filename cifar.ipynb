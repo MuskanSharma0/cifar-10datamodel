{
 "cells": [
  {
   "cell_type": "code",
   "execution_count": 1,
   "metadata": {},
   "outputs": [],
   "source": [
    "import numpy\n"
   ]
  },
  {
   "cell_type": "code",
   "execution_count": 2,
   "metadata": {},
   "outputs": [],
   "source": [
    "import tensorflow as tf \n",
    "import tensorflow.keras as keras"
   ]
  },
  {
   "cell_type": "code",
   "execution_count": 3,
   "metadata": {},
   "outputs": [],
   "source": [
    "from keras.constraints import max_norm\n"
   ]
  },
  {
   "cell_type": "code",
   "execution_count": 4,
   "metadata": {},
   "outputs": [],
   "source": [
    "from keras.datasets import cifar10"
   ]
  },
  {
   "cell_type": "code",
   "execution_count": 5,
   "metadata": {},
   "outputs": [],
   "source": [
    "# Set random seed for purposes of reproducibility\n",
    "seed = 21"
   ]
  },
  {
   "cell_type": "code",
   "execution_count": 6,
   "metadata": {},
   "outputs": [],
   "source": [
    "# Loading in the data\n",
    "(X_train, y_train), (X_test, y_test) = cifar10.load_data()"
   ]
  },
  {
   "cell_type": "code",
   "execution_count": 7,
   "metadata": {},
   "outputs": [],
   "source": [
    "# Normalize the inputs from 0-255 to between 0 and 1 by dividing by 255\n",
    "X_train = X_train.astype('float32')\n",
    "X_test = X_test.astype('float32')\n",
    "X_train = X_train / 255.0\n",
    "X_test = X_test / 255.0"
   ]
  },
  {
   "cell_type": "code",
   "execution_count": 8,
   "metadata": {},
   "outputs": [],
   "source": [
    "from keras.utils import to_categorical"
   ]
  },
  {
   "cell_type": "code",
   "execution_count": 9,
   "metadata": {},
   "outputs": [],
   "source": [
    "y_train = to_categorical(y_train)\n",
    "y_test = to_categorical(y_test)\n",
    "class_num = y_test.shape[1]"
   ]
  },
  {
   "cell_type": "code",
   "execution_count": 10,
   "metadata": {},
   "outputs": [],
   "source": [
    "from tensorflow.keras.models import Sequential\n",
    "from tensorflow.keras.layers import Dense"
   ]
  },
  {
   "cell_type": "code",
   "execution_count": 11,
   "metadata": {},
   "outputs": [],
   "source": [
    "model = keras.Sequential()\n",
    "model.add(keras.layers.Conv2D(32, (3, 3), input_shape=X_train.shape[1:], padding='same'))\n",
    "model.add(keras.layers.Activation('relu'))"
   ]
  },
  {
   "cell_type": "code",
   "execution_count": 12,
   "metadata": {},
   "outputs": [],
   "source": [
    "model.add(keras.layers.Conv2D(32, 3, input_shape=(32, 32, 3), activation='relu', padding='same'))\n"
   ]
  },
  {
   "cell_type": "code",
   "execution_count": 13,
   "metadata": {},
   "outputs": [],
   "source": [
    "model.add(keras.layers.Dropout(0.2))"
   ]
  },
  {
   "cell_type": "code",
   "execution_count": 14,
   "metadata": {},
   "outputs": [],
   "source": [
    "model.add(keras.layers.BatchNormalization())"
   ]
  },
  {
   "cell_type": "code",
   "execution_count": 15,
   "metadata": {},
   "outputs": [],
   "source": [
    "model.add(keras.layers.Conv2D(64, 3, activation='relu', padding='same'))\n",
    "model.add(keras.layers.MaxPooling2D(2))\n",
    "model.add(keras.layers.Dropout(0.2))\n",
    "model.add(keras.layers.BatchNormalization())"
   ]
  },
  {
   "cell_type": "code",
   "execution_count": 16,
   "metadata": {},
   "outputs": [],
   "source": [
    "model.add(keras.layers.Conv2D(64, 3, activation='relu', padding='same'))\n",
    "model.add(keras.layers.MaxPooling2D(2))\n",
    "model.add(keras.layers.Dropout(0.2))\n",
    "model.add(keras.layers.BatchNormalization())\n",
    "    \n",
    "model.add(keras.layers.Conv2D(128, 3, activation='relu', padding='same'))\n",
    "model.add(keras.layers.Dropout(0.2))\n",
    "model.add(keras.layers.BatchNormalization())"
   ]
  },
  {
   "cell_type": "code",
   "execution_count": 17,
   "metadata": {},
   "outputs": [],
   "source": [
    "model.add(keras.layers.Flatten())\n",
    "model.add(keras.layers.Dropout(0.2))"
   ]
  },
  {
   "cell_type": "code",
   "execution_count": 18,
   "metadata": {},
   "outputs": [],
   "source": [
    "model.add(keras.layers.Dense(32, activation='relu'))\n",
    "model.add(keras.layers.Dropout(0.3))\n",
    "model.add(keras.layers.BatchNormalization())"
   ]
  },
  {
   "cell_type": "code",
   "execution_count": 19,
   "metadata": {},
   "outputs": [],
   "source": [
    "model.add(keras.layers.Dense(class_num, activation='softmax'))"
   ]
  },
  {
   "cell_type": "code",
   "execution_count": 20,
   "metadata": {},
   "outputs": [],
   "source": [
    "model.compile(loss='categorical_crossentropy', optimizer='adam', metrics=['accuracy'])"
   ]
  },
  {
   "cell_type": "code",
   "execution_count": 21,
   "metadata": {},
   "outputs": [
    {
     "name": "stdout",
     "output_type": "stream",
     "text": [
      "Model: \"sequential\"\n",
      "_________________________________________________________________\n",
      " Layer (type)                Output Shape              Param #   \n",
      "=================================================================\n",
      " conv2d (Conv2D)             (None, 32, 32, 32)        896       \n",
      "                                                                 \n",
      " activation (Activation)     (None, 32, 32, 32)        0         \n",
      "                                                                 \n",
      " conv2d_1 (Conv2D)           (None, 32, 32, 32)        9248      \n",
      "                                                                 \n",
      " dropout (Dropout)           (None, 32, 32, 32)        0         \n",
      "                                                                 \n",
      " batch_normalization (Batch  (None, 32, 32, 32)        128       \n",
      " Normalization)                                                  \n",
      "                                                                 \n",
      " conv2d_2 (Conv2D)           (None, 32, 32, 64)        18496     \n",
      "                                                                 \n",
      " max_pooling2d (MaxPooling2  (None, 16, 16, 64)        0         \n",
      " D)                                                              \n",
      "                                                                 \n",
      " dropout_1 (Dropout)         (None, 16, 16, 64)        0         \n",
      "                                                                 \n",
      " batch_normalization_1 (Bat  (None, 16, 16, 64)        256       \n",
      " chNormalization)                                                \n",
      "                                                                 \n",
      " conv2d_3 (Conv2D)           (None, 16, 16, 64)        36928     \n",
      "                                                                 \n",
      " max_pooling2d_1 (MaxPoolin  (None, 8, 8, 64)          0         \n",
      " g2D)                                                            \n",
      "                                                                 \n",
      " dropout_2 (Dropout)         (None, 8, 8, 64)          0         \n",
      "                                                                 \n",
      " batch_normalization_2 (Bat  (None, 8, 8, 64)          256       \n",
      " chNormalization)                                                \n",
      "                                                                 \n",
      " conv2d_4 (Conv2D)           (None, 8, 8, 128)         73856     \n",
      "                                                                 \n",
      " dropout_3 (Dropout)         (None, 8, 8, 128)         0         \n",
      "                                                                 \n",
      " batch_normalization_3 (Bat  (None, 8, 8, 128)         512       \n",
      " chNormalization)                                                \n",
      "                                                                 \n",
      " flatten (Flatten)           (None, 8192)              0         \n",
      "                                                                 \n",
      " dropout_4 (Dropout)         (None, 8192)              0         \n",
      "                                                                 \n",
      " dense (Dense)               (None, 32)                262176    \n",
      "                                                                 \n",
      " dropout_5 (Dropout)         (None, 32)                0         \n",
      "                                                                 \n",
      " batch_normalization_4 (Bat  (None, 32)                128       \n",
      " chNormalization)                                                \n",
      "                                                                 \n",
      " dense_1 (Dense)             (None, 10)                330       \n",
      "                                                                 \n",
      "=================================================================\n",
      "Total params: 403210 (1.54 MB)\n",
      "Trainable params: 402570 (1.54 MB)\n",
      "Non-trainable params: 640 (2.50 KB)\n",
      "_________________________________________________________________\n",
      "None\n"
     ]
    }
   ],
   "source": [
    "print(model.summary())"
   ]
  },
  {
   "cell_type": "code",
   "execution_count": 22,
   "metadata": {},
   "outputs": [
    {
     "name": "stdout",
     "output_type": "stream",
     "text": [
      "Epoch 1/25\n",
      "782/782 [==============================] - 327s 415ms/step - loss: 1.5954 - accuracy: 0.4286 - val_loss: 1.2565 - val_accuracy: 0.5502\n",
      "Epoch 2/25\n",
      "782/782 [==============================] - 326s 417ms/step - loss: 1.1553 - accuracy: 0.5924 - val_loss: 0.9203 - val_accuracy: 0.6790\n",
      "Epoch 3/25\n",
      "782/782 [==============================] - 316s 404ms/step - loss: 0.9684 - accuracy: 0.6625 - val_loss: 0.8486 - val_accuracy: 0.7027\n",
      "Epoch 4/25\n",
      "782/782 [==============================] - 313s 400ms/step - loss: 0.8760 - accuracy: 0.6970 - val_loss: 0.6860 - val_accuracy: 0.7612\n",
      "Epoch 5/25\n",
      "782/782 [==============================] - 313s 400ms/step - loss: 0.8075 - accuracy: 0.7202 - val_loss: 0.7030 - val_accuracy: 0.7556\n",
      "Epoch 6/25\n",
      "782/782 [==============================] - 313s 401ms/step - loss: 0.7618 - accuracy: 0.7360 - val_loss: 0.6578 - val_accuracy: 0.7736\n",
      "Epoch 7/25\n",
      "782/782 [==============================] - 313s 400ms/step - loss: 0.7191 - accuracy: 0.7519 - val_loss: 0.6349 - val_accuracy: 0.7773\n",
      "Epoch 8/25\n",
      "782/782 [==============================] - 314s 401ms/step - loss: 0.6860 - accuracy: 0.7634 - val_loss: 0.6164 - val_accuracy: 0.7870\n",
      "Epoch 9/25\n",
      "782/782 [==============================] - 313s 400ms/step - loss: 0.6659 - accuracy: 0.7720 - val_loss: 0.6001 - val_accuracy: 0.7974\n",
      "Epoch 10/25\n",
      "782/782 [==============================] - 312s 399ms/step - loss: 0.6400 - accuracy: 0.7812 - val_loss: 0.5886 - val_accuracy: 0.7975\n",
      "Epoch 11/25\n",
      "782/782 [==============================] - 313s 401ms/step - loss: 0.6170 - accuracy: 0.7870 - val_loss: 0.5520 - val_accuracy: 0.8101\n",
      "Epoch 12/25\n",
      "782/782 [==============================] - 313s 401ms/step - loss: 0.5985 - accuracy: 0.7931 - val_loss: 0.5726 - val_accuracy: 0.8060\n",
      "Epoch 13/25\n",
      "782/782 [==============================] - 313s 401ms/step - loss: 0.5759 - accuracy: 0.7993 - val_loss: 0.6381 - val_accuracy: 0.7825\n",
      "Epoch 14/25\n",
      "782/782 [==============================] - 314s 401ms/step - loss: 0.5649 - accuracy: 0.8042 - val_loss: 0.5860 - val_accuracy: 0.8011\n",
      "Epoch 15/25\n",
      "782/782 [==============================] - 315s 403ms/step - loss: 0.5473 - accuracy: 0.8093 - val_loss: 0.5459 - val_accuracy: 0.8124\n",
      "Epoch 16/25\n",
      "782/782 [==============================] - 314s 402ms/step - loss: 0.5399 - accuracy: 0.8127 - val_loss: 0.5635 - val_accuracy: 0.8103\n",
      "Epoch 17/25\n",
      "782/782 [==============================] - 314s 402ms/step - loss: 0.5278 - accuracy: 0.8134 - val_loss: 0.5336 - val_accuracy: 0.8214\n",
      "Epoch 18/25\n",
      "782/782 [==============================] - 314s 401ms/step - loss: 0.5158 - accuracy: 0.8196 - val_loss: 0.5407 - val_accuracy: 0.8191\n",
      "Epoch 19/25\n",
      "782/782 [==============================] - 314s 402ms/step - loss: 0.5057 - accuracy: 0.8229 - val_loss: 0.5195 - val_accuracy: 0.8232\n",
      "Epoch 20/25\n",
      "782/782 [==============================] - 315s 402ms/step - loss: 0.4948 - accuracy: 0.8301 - val_loss: 0.5406 - val_accuracy: 0.8198\n",
      "Epoch 21/25\n",
      "782/782 [==============================] - 317s 405ms/step - loss: 0.4890 - accuracy: 0.8308 - val_loss: 0.5225 - val_accuracy: 0.8268\n",
      "Epoch 22/25\n",
      "782/782 [==============================] - 300s 383ms/step - loss: 0.4800 - accuracy: 0.8335 - val_loss: 0.5488 - val_accuracy: 0.8180\n",
      "Epoch 23/25\n",
      "782/782 [==============================] - 308s 394ms/step - loss: 0.4712 - accuracy: 0.8356 - val_loss: 0.5198 - val_accuracy: 0.8300\n",
      "Epoch 24/25\n",
      "782/782 [==============================] - 361s 462ms/step - loss: 0.4646 - accuracy: 0.8366 - val_loss: 0.4954 - val_accuracy: 0.8371\n",
      "Epoch 25/25\n",
      "782/782 [==============================] - 310s 397ms/step - loss: 0.4578 - accuracy: 0.8410 - val_loss: 0.5378 - val_accuracy: 0.8164\n"
     ]
    }
   ],
   "source": [
    "numpy.random.seed(21)\n",
    "history = model.fit(X_train, y_train, validation_data=(X_test, y_test), epochs=25, batch_size=64)"
   ]
  },
  {
   "cell_type": "code",
   "execution_count": 23,
   "metadata": {},
   "outputs": [
    {
     "name": "stdout",
     "output_type": "stream",
     "text": [
      "Accuracy: 81.64%\n"
     ]
    }
   ],
   "source": [
    "# Model evaluation\n",
    "scores = model.evaluate(X_test, y_test, verbose=0)\n",
    "print(\"Accuracy: %.2f%%\" % (scores[1]*100))"
   ]
  },
  {
   "cell_type": "code",
   "execution_count": 24,
   "metadata": {},
   "outputs": [
    {
     "data": {
      "image/png": "[encoded data removed]",
      "text/plain": [
       "<Figure size 640x480 with 1 Axes>"
      ]
     },
     "metadata": {},
     "output_type": "display_data"
    }
   ],
   "source": [
    "import pandas as pd\n",
    "import matplotlib.pyplot as plt\n",
    "\n",
    "pd.DataFrame(history.history).plot()\n",
    "plt.show()"
   ]
  }
 ],
 "metadata": {
  "kernelspec": {
   "display_name": "Python 3",
   "language": "python",
   "name": "python3"
  },
  "language_info": {
   "codemirror_mode": {
    "name": "ipython",
    "version": 3
   },
   "file_extension": ".py",
   "mimetype": "text/x-python",
   "name": "python",
   "nbconvert_exporter": "python",
   "pygments_lexer": "ipython3",
   "version": "3.11.4"
  },
  "orig_nbformat": 4
 },
 "nbformat": 4,
 "nbformat_minor": 2
}
